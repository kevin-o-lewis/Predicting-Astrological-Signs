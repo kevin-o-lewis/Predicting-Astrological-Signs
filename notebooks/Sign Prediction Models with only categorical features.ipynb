{
 "cells": [
  {
   "cell_type": "code",
   "execution_count": 20,
   "id": "d69d2022",
   "metadata": {},
   "outputs": [],
   "source": [
    "import pandas as pd\n",
    "from sklearn.model_selection import train_test_split, GridSearchCV\n",
    "from sklearn.linear_model import LogisticRegression\n",
    "from matplotlib import pyplot as plt\n",
    "from sklearn.ensemble import RandomForestClassifier, GradientBoostingClassifier"
   ]
  },
  {
   "cell_type": "code",
   "execution_count": 2,
   "id": "12f6e8e2",
   "metadata": {},
   "outputs": [],
   "source": [
    "df = pd.read_csv('../data/mostly_cleaned.csv')"
   ]
  },
  {
   "cell_type": "code",
   "execution_count": 3,
   "id": "42ee4ef9",
   "metadata": {},
   "outputs": [],
   "source": [
    "df.drop(columns=['essay0'\n",
    "                 ,'essay1'\n",
    "                 ,'essay2'\n",
    "                 ,'essay3'\n",
    "                 ,'essay4'\n",
    "                 ,'essay5'\n",
    "                 ,'essay6'\n",
    "                 ,'essay7'\n",
    "                 ,'essay8'\n",
    "                 ,'essay9'\n",
    "                 , 'Unnamed: 0'\n",
    "                 , 'religion'\n",
    "                 , 'sign', 'ethnicity', 'speaks'], inplace=True)"
   ]
  },
  {
   "cell_type": "code",
   "execution_count": 4,
   "id": "afb3c13b",
   "metadata": {},
   "outputs": [
    {
     "data": {
      "text/plain": [
       "Index(['age', 'status', 'sex', 'orientation', 'body_type', 'diet', 'drinks',\n",
       "       'drugs', 'education', 'height', 'job', 'offspring', 'pets', 'smokes',\n",
       "       'sign_actual', 'sign_seriousness', 'religion_actual',\n",
       "       'religion_seriousness'],\n",
       "      dtype='object')"
      ]
     },
     "execution_count": 4,
     "metadata": {},
     "output_type": "execute_result"
    }
   ],
   "source": [
    "df.columns"
   ]
  },
  {
   "cell_type": "code",
   "execution_count": 5,
   "id": "4b41071f",
   "metadata": {},
   "outputs": [
    {
     "data": {
      "text/plain": [
       "Index(['age', 'height', 'status_available', 'status_married',\n",
       "       'status_seeing someone', 'status_single', 'status_unknown', 'sex_f',\n",
       "       'sex_m', 'orientation_bisexual',\n",
       "       ...\n",
       "       'religion_actual_hinduism', 'religion_actual_islam',\n",
       "       'religion_actual_judaism', 'religion_actual_no_answer',\n",
       "       'religion_actual_other', 'religion_seriousness_and laughing about it',\n",
       "       'religion_seriousness_and somewhat serious about it',\n",
       "       'religion_seriousness_and very serious about it',\n",
       "       'religion_seriousness_but not too serious about it',\n",
       "       'religion_seriousness_no_answer'],\n",
       "      dtype='object', length=163)"
      ]
     },
     "execution_count": 5,
     "metadata": {},
     "output_type": "execute_result"
    }
   ],
   "source": [
    "simple_predictors = df.copy()\n",
    "simple_predictors.drop(columns=['sign_actual','sign_seriousness'], inplace=True)\n",
    "dummified = pd.get_dummies(simple_predictors)\n",
    "dummified.columns"
   ]
  },
  {
   "cell_type": "code",
   "execution_count": 6,
   "id": "0ffde1e7",
   "metadata": {},
   "outputs": [],
   "source": [
    "X = dummified\n",
    "y = df.sign_actual"
   ]
  },
  {
   "cell_type": "code",
   "execution_count": 7,
   "id": "60774ad9",
   "metadata": {},
   "outputs": [],
   "source": [
    "X_train, X_test, y_train, y_test = train_test_split(X, y, test_size=0.20)"
   ]
  },
  {
   "cell_type": "code",
   "execution_count": 8,
   "id": "4b4c0a86",
   "metadata": {},
   "outputs": [
    {
     "data": {
      "text/plain": [
       "((39112, 163), (9778, 163), (39112,), (9778,))"
      ]
     },
     "execution_count": 8,
     "metadata": {},
     "output_type": "execute_result"
    }
   ],
   "source": [
    "X_train.shape, X_test.shape, y_train.shape, y_test.shape"
   ]
  },
  {
   "cell_type": "code",
   "execution_count": 9,
   "id": "53f336b0",
   "metadata": {},
   "outputs": [
    {
     "name": "stderr",
     "output_type": "stream",
     "text": [
      "/Users/kevin/opt/anaconda3/lib/python3.7/site-packages/sklearn/linear_model/_logistic.py:765: ConvergenceWarning: lbfgs failed to converge (status=1):\n",
      "STOP: TOTAL NO. of ITERATIONS REACHED LIMIT.\n",
      "\n",
      "Increase the number of iterations (max_iter) or scale the data as shown in:\n",
      "    https://scikit-learn.org/stable/modules/preprocessing.html\n",
      "Please also refer to the documentation for alternative solver options:\n",
      "    https://scikit-learn.org/stable/modules/linear_model.html#logistic-regression\n",
      "  extra_warning_msg=_LOGISTIC_SOLVER_CONVERGENCE_MSG)\n"
     ]
    },
    {
     "data": {
      "text/plain": [
       "8.181632235631008"
      ]
     },
     "execution_count": 9,
     "metadata": {},
     "output_type": "execute_result"
    }
   ],
   "source": [
    "LR = LogisticRegression(multi_class='multinomial', max_iter=1000)\n",
    "LR.fit(X_train, y_train)\n",
    "LR_pred = LR.predict(X_test)\n",
    "LR_results = pd.DataFrame(data={'Prediction':LR_pred, 'Actual':y_test})\n",
    "LR_correct_predictions = 0\n",
    "for row in LR_results.index:\n",
    "    if LR_results.loc[row][0] == LR_results.loc[row][1]:\n",
    "        LR_correct_predictions +=1\n",
    "        \n",
    "(LR_correct_predictions / len(LR_results))*100"
   ]
  },
  {
   "cell_type": "code",
   "execution_count": 17,
   "id": "85e8e8ed",
   "metadata": {},
   "outputs": [
    {
     "data": {
      "text/plain": [
       "0.08181632235631009"
      ]
     },
     "execution_count": 17,
     "metadata": {},
     "output_type": "execute_result"
    }
   ],
   "source": [
    "LR.score(X_test, y_test)"
   ]
  },
  {
   "cell_type": "code",
   "execution_count": 10,
   "id": "8862a5a0",
   "metadata": {},
   "outputs": [
    {
     "data": {
      "text/plain": [
       "8.345264880343628"
      ]
     },
     "execution_count": 10,
     "metadata": {},
     "output_type": "execute_result"
    }
   ],
   "source": [
    "RF = RandomForestClassifier()\n",
    "RF.fit(X_train, y_train)\n",
    "RF_pred = RF.predict(X_test)\n",
    "\n",
    "RF_results = pd.DataFrame(data={'Prediction':RF_pred, 'Actual':y_test})\n",
    "RF_correct_predictions = 0\n",
    "for row in RF_results.index:\n",
    "    if RF_results.loc[row][0] == RF_results.loc[row][1]:\n",
    "        RF_correct_predictions +=1\n",
    "        \n",
    "(RF_correct_predictions / len(RF_results))*100"
   ]
  },
  {
   "cell_type": "code",
   "execution_count": 18,
   "id": "b662354d",
   "metadata": {},
   "outputs": [
    {
     "data": {
      "text/plain": [
       "0.08345264880343628"
      ]
     },
     "execution_count": 18,
     "metadata": {},
     "output_type": "execute_result"
    }
   ],
   "source": [
    "RF.score(X_test, y_test)"
   ]
  },
  {
   "cell_type": "code",
   "execution_count": 11,
   "id": "3f813b68",
   "metadata": {},
   "outputs": [
    {
     "name": "stdout",
     "output_type": "stream",
     "text": [
      "5 most important features: [0, 1, 34, 124, 140]\n"
     ]
    }
   ],
   "source": [
    "important_features_dict = {}\n",
    "for idx, val in enumerate(RF.feature_importances_):\n",
    "    important_features_dict[idx] = val\n",
    "\n",
    "important_features_list = sorted(important_features_dict,\n",
    "                                 key=important_features_dict.get,\n",
    "                                 reverse=True)\n",
    "\n",
    "print(f'5 most important features: {important_features_list[:5]}')"
   ]
  },
  {
   "cell_type": "code",
   "execution_count": 12,
   "id": "97b27963",
   "metadata": {},
   "outputs": [
    {
     "data": {
      "text/plain": [
       "('age',\n",
       " 'height',\n",
       " 'diet_no_answer',\n",
       " 'offspring_no_answer',\n",
       " 'education_graduated from college/university')"
      ]
     },
     "execution_count": 12,
     "metadata": {},
     "output_type": "execute_result"
    }
   ],
   "source": [
    "X_train.columns[0], X_train.columns[1], X_train.columns[34], X_train.columns[124], X_train.columns[64]"
   ]
  },
  {
   "cell_type": "code",
   "execution_count": 13,
   "id": "91378da7",
   "metadata": {},
   "outputs": [
    {
     "data": {
      "text/plain": [
       "8.49867048476171"
      ]
     },
     "execution_count": 13,
     "metadata": {},
     "output_type": "execute_result"
    }
   ],
   "source": [
    "GB = GradientBoostingClassifier()\n",
    "GB.fit(X_train, y_train)\n",
    "GB_pred = GB.predict(X_test)\n",
    "\n",
    "GB_results = pd.DataFrame(data={'Prediction':GB_pred, 'Actual':y_test})\n",
    "GB_correct_predictions = 0\n",
    "for row in GB_results.index:\n",
    "    if GB_results.loc[row][0] == GB_results.loc[row][1]:\n",
    "        GB_correct_predictions +=1\n",
    "        \n",
    "(GB_correct_predictions / len(RF_results))*100"
   ]
  },
  {
   "cell_type": "code",
   "execution_count": 19,
   "id": "49f049aa",
   "metadata": {},
   "outputs": [
    {
     "data": {
      "text/plain": [
       "0.0849867048476171"
      ]
     },
     "execution_count": 19,
     "metadata": {},
     "output_type": "execute_result"
    }
   ],
   "source": [
    "GB.score(X_test, y_test)"
   ]
  },
  {
   "cell_type": "code",
   "execution_count": null,
   "id": "2f7970da",
   "metadata": {},
   "outputs": [],
   "source": [
    "# model = GradientBoostingRegressor()\n",
    "\n",
    "# grid = {'max_depth': [2,4,8],\n",
    "#         'min_samples_split': [2, 4, 8],\n",
    "#        'subsample': [1, 0.5, 0.25, 0.1]}\n",
    "\n",
    "# gb_gridsearch = GridSearchCV(estimator=model, param_grid=grid, \n",
    "#                              cv=5, verbose=0, return_train_score=True)\n",
    "\n",
    "# gb_gridsearch.fit(X_train, y_train)\n",
    "\n",
    "# # and after some hours...\n",
    "# df_gridsearch = pd.DataFrame(gb_gridsearch.cv_results_)"
   ]
  },
  {
   "cell_type": "code",
   "execution_count": 21,
   "id": "e3e6278e",
   "metadata": {},
   "outputs": [],
   "source": [
    "gb_gridsearch = GridSearchCV(estimator=GradientBoostingClassifier(),\n",
    "                                param_grid = {'max_depth': [2, 4, 8],\n",
    "                                             'min_samples_split': [2, 4, 8],\n",
    "                                             'subsample': [1, 0.5, 0.25, 0.1]},\n",
    "                                cv=5, verbose=0, return_train_score=True)\n",
    "gb_gridsearch.fit(X_train, y_train)\n",
    "df_gridsearch = pd.DataFrame(gb_gridsearch.cv_results_)"
   ]
  },
  {
   "cell_type": "code",
   "execution_count": 25,
   "id": "d07878f8",
   "metadata": {},
   "outputs": [
    {
     "data": {
      "text/plain": [
       "{'max_depth': 2, 'min_samples_split': 2, 'subsample': 0.5}"
      ]
     },
     "execution_count": 25,
     "metadata": {},
     "output_type": "execute_result"
    }
   ],
   "source": [
    "gb_gridsearch.best_params_"
   ]
  },
  {
   "cell_type": "code",
   "execution_count": 26,
   "id": "a1c6803c",
   "metadata": {},
   "outputs": [
    {
     "data": {
      "text/plain": [
       "0.08915432805330857"
      ]
     },
     "execution_count": 26,
     "metadata": {},
     "output_type": "execute_result"
    }
   ],
   "source": [
    "gb_gridsearch.best_score_"
   ]
  }
 ],
 "metadata": {
  "kernelspec": {
   "display_name": "Python 3",
   "language": "python",
   "name": "python3"
  },
  "language_info": {
   "codemirror_mode": {
    "name": "ipython",
    "version": 3
   },
   "file_extension": ".py",
   "mimetype": "text/x-python",
   "name": "python",
   "nbconvert_exporter": "python",
   "pygments_lexer": "ipython3",
   "version": "3.7.7"
  }
 },
 "nbformat": 4,
 "nbformat_minor": 5
}
