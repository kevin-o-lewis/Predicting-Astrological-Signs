{
 "cells": [
  {
   "cell_type": "code",
   "execution_count": 56,
   "id": "560ac8fb",
   "metadata": {},
   "outputs": [],
   "source": [
    "import pandas as pd\n",
    "from matplotlib import pyplot as plt"
   ]
  },
  {
   "cell_type": "code",
   "execution_count": 57,
   "id": "d8d7852f",
   "metadata": {},
   "outputs": [],
   "source": [
    "df = pd.read_csv(\"../data/okcupid_profiles.csv\")"
   ]
  },
  {
   "cell_type": "code",
   "execution_count": 58,
   "id": "ed375872",
   "metadata": {},
   "outputs": [],
   "source": [
    "df.drop(columns=['last_online', 'location'], inplace=True)\n",
    "df.body_type.fillna('no_answer', inplace=True)\n",
    "df.diet.fillna('no_answer', inplace=True)\n",
    "df.drinks.fillna('no_answer', inplace=True)\n",
    "df.drugs.fillna('no_answer', inplace=True)\n",
    "df.education.fillna('no_answer', inplace=True)\n",
    "df.height.fillna(68.0, inplace=True)\n",
    "df.job.fillna('no_answer', inplace=True)\n",
    "df.drop(columns='income', inplace=True)\n",
    "df.offspring.fillna('no_answer', inplace=True)\n",
    "df.pets.fillna('no_answer', inplace=True)\n",
    "df.religion.fillna('no_answer', inplace=True)\n",
    "df.sign.fillna('no_answer', inplace=True)\n",
    "df.smokes.fillna('no_answer', inplace=True)"
   ]
  },
  {
   "cell_type": "code",
   "execution_count": 59,
   "id": "c7a89e48",
   "metadata": {},
   "outputs": [],
   "source": [
    "for val in df.height:\n",
    "    if df.height.value_counts()[val] == 1:\n",
    "        df.height.replace(val, 68.0, inplace=True)"
   ]
  },
  {
   "cell_type": "code",
   "execution_count": 60,
   "id": "67a6edd4",
   "metadata": {},
   "outputs": [
    {
     "name": "stderr",
     "output_type": "stream",
     "text": [
      "/Users/kevin/opt/anaconda3/lib/python3.7/site-packages/ipykernel_launcher.py:2: SettingWithCopyWarning: \n",
      "A value is trying to be set on a copy of a slice from a DataFrame\n",
      "\n",
      "See the caveats in the documentation: https://pandas.pydata.org/pandas-docs/stable/user_guide/indexing.html#returning-a-view-versus-a-copy\n",
      "  \n"
     ]
    }
   ],
   "source": [
    "for idx, val in enumerate(df.sign):\n",
    "    df.sign[idx] = val.replace(\"&rsquo;\", \"\")"
   ]
  },
  {
   "cell_type": "code",
   "execution_count": 61,
   "id": "9a8316a2",
   "metadata": {},
   "outputs": [
    {
     "name": "stderr",
     "output_type": "stream",
     "text": [
      "/Users/kevin/opt/anaconda3/lib/python3.7/site-packages/ipykernel_launcher.py:5: SettingWithCopyWarning: \n",
      "A value is trying to be set on a copy of a slice from a DataFrame\n",
      "\n",
      "See the caveats in the documentation: https://pandas.pydata.org/pandas-docs/stable/user_guide/indexing.html#returning-a-view-versus-a-copy\n",
      "  \"\"\"\n",
      "/Users/kevin/opt/anaconda3/lib/python3.7/site-packages/ipykernel_launcher.py:6: SettingWithCopyWarning: \n",
      "A value is trying to be set on a copy of a slice from a DataFrame\n",
      "\n",
      "See the caveats in the documentation: https://pandas.pydata.org/pandas-docs/stable/user_guide/indexing.html#returning-a-view-versus-a-copy\n",
      "  \n",
      "/Users/kevin/opt/anaconda3/lib/python3.7/site-packages/ipykernel_launcher.py:8: SettingWithCopyWarning: \n",
      "A value is trying to be set on a copy of a slice from a DataFrame\n",
      "\n",
      "See the caveats in the documentation: https://pandas.pydata.org/pandas-docs/stable/user_guide/indexing.html#returning-a-view-versus-a-copy\n",
      "  \n",
      "/Users/kevin/opt/anaconda3/lib/python3.7/site-packages/ipykernel_launcher.py:9: SettingWithCopyWarning: \n",
      "A value is trying to be set on a copy of a slice from a DataFrame\n",
      "\n",
      "See the caveats in the documentation: https://pandas.pydata.org/pandas-docs/stable/user_guide/indexing.html#returning-a-view-versus-a-copy\n",
      "  if __name__ == '__main__':\n"
     ]
    }
   ],
   "source": [
    "df['sign_actual'] = df['sign']\n",
    "df['sign_seriousness'] = df['sign']\n",
    "for idx, val in enumerate(df.sign):\n",
    "    if len(val.split()) == 1:\n",
    "        df['sign_actual'][idx] = val\n",
    "        df['sign_seriousness'][idx] = 'no_answer'\n",
    "    else: \n",
    "        df['sign_actual'][idx] = val.split(\" \", 1)[0]\n",
    "        df['sign_seriousness'][idx] = val.split(\" \", 1)[1]"
   ]
  },
  {
   "cell_type": "code",
   "execution_count": 62,
   "id": "e3f05212",
   "metadata": {},
   "outputs": [
    {
     "name": "stderr",
     "output_type": "stream",
     "text": [
      "/Users/kevin/opt/anaconda3/lib/python3.7/site-packages/ipykernel_launcher.py:8: SettingWithCopyWarning: \n",
      "A value is trying to be set on a copy of a slice from a DataFrame\n",
      "\n",
      "See the caveats in the documentation: https://pandas.pydata.org/pandas-docs/stable/user_guide/indexing.html#returning-a-view-versus-a-copy\n",
      "  \n",
      "/Users/kevin/opt/anaconda3/lib/python3.7/site-packages/ipykernel_launcher.py:9: SettingWithCopyWarning: \n",
      "A value is trying to be set on a copy of a slice from a DataFrame\n",
      "\n",
      "See the caveats in the documentation: https://pandas.pydata.org/pandas-docs/stable/user_guide/indexing.html#returning-a-view-versus-a-copy\n",
      "  if __name__ == '__main__':\n",
      "/Users/kevin/opt/anaconda3/lib/python3.7/site-packages/ipykernel_launcher.py:5: SettingWithCopyWarning: \n",
      "A value is trying to be set on a copy of a slice from a DataFrame\n",
      "\n",
      "See the caveats in the documentation: https://pandas.pydata.org/pandas-docs/stable/user_guide/indexing.html#returning-a-view-versus-a-copy\n",
      "  \"\"\"\n",
      "/Users/kevin/opt/anaconda3/lib/python3.7/site-packages/ipykernel_launcher.py:6: SettingWithCopyWarning: \n",
      "A value is trying to be set on a copy of a slice from a DataFrame\n",
      "\n",
      "See the caveats in the documentation: https://pandas.pydata.org/pandas-docs/stable/user_guide/indexing.html#returning-a-view-versus-a-copy\n",
      "  \n"
     ]
    }
   ],
   "source": [
    "df['religion_actual'] = df['religion']\n",
    "df['religion_seriousness'] = df['religion']\n",
    "for idx, val in enumerate(df.religion):\n",
    "    if len(val.split()) == 1:\n",
    "        df['religion_actual'][idx] = val\n",
    "        df['religion_seriousness'][idx] = 'no_answer'\n",
    "    else: \n",
    "        df['religion_actual'][idx] = val.split(\" \", 1)[0]\n",
    "        df['religion_seriousness'][idx] = val.split(\" \", 1)[1]"
   ]
  },
  {
   "cell_type": "code",
   "execution_count": 63,
   "id": "7bc0ee04",
   "metadata": {},
   "outputs": [],
   "source": [
    "df = df[df[\"sign\"].str.contains(\"no_answer\")==False]"
   ]
  },
  {
   "cell_type": "code",
   "execution_count": 68,
   "id": "7a6ef1b1",
   "metadata": {},
   "outputs": [
    {
     "data": {
      "text/plain": [
       "0               asian, white\n",
       "1                      white\n",
       "2                        NaN\n",
       "3                      white\n",
       "4        asian, black, other\n",
       "                ...         \n",
       "59941                    NaN\n",
       "59942           white, other\n",
       "59943                  asian\n",
       "59944           asian, black\n",
       "59945                  white\n",
       "Name: ethnicity, Length: 48890, dtype: object"
      ]
     },
     "execution_count": 68,
     "metadata": {},
     "output_type": "execute_result"
    }
   ],
   "source": [
    "df.ethnicity"
   ]
  },
  {
   "cell_type": "code",
   "execution_count": 64,
   "id": "668f7b71",
   "metadata": {},
   "outputs": [],
   "source": [
    "df.to_csv('../data/mostly_cleaned.csv')"
   ]
  },
  {
   "cell_type": "code",
   "execution_count": 65,
   "id": "806bd6ed",
   "metadata": {},
   "outputs": [
    {
     "name": "stdout",
     "output_type": "stream",
     "text": [
      "<class 'pandas.core.frame.DataFrame'>\n",
      "Int64Index: 48890 entries, 0 to 59945\n",
      "Data columns (total 32 columns):\n",
      " #   Column                Non-Null Count  Dtype  \n",
      "---  ------                --------------  -----  \n",
      " 0   age                   48890 non-null  int64  \n",
      " 1   status                48890 non-null  object \n",
      " 2   sex                   48890 non-null  object \n",
      " 3   orientation           48890 non-null  object \n",
      " 4   body_type             48890 non-null  object \n",
      " 5   diet                  48890 non-null  object \n",
      " 6   drinks                48890 non-null  object \n",
      " 7   drugs                 48890 non-null  object \n",
      " 8   education             48890 non-null  object \n",
      " 9   ethnicity             44945 non-null  object \n",
      " 10  height                48890 non-null  float64\n",
      " 11  job                   48890 non-null  object \n",
      " 12  offspring             48890 non-null  object \n",
      " 13  pets                  48890 non-null  object \n",
      " 14  religion              48890 non-null  object \n",
      " 15  sign                  48890 non-null  object \n",
      " 16  smokes                48890 non-null  object \n",
      " 17  speaks                48860 non-null  object \n",
      " 18  essay0                44796 non-null  object \n",
      " 19  essay1                43464 non-null  object \n",
      " 20  essay2                42041 non-null  object \n",
      " 21  essay3                40828 non-null  object \n",
      " 22  essay4                41301 non-null  object \n",
      " 23  essay5                41292 non-null  object \n",
      " 24  essay6                38968 non-null  object \n",
      " 25  essay7                40068 non-null  object \n",
      " 26  essay8                34618 non-null  object \n",
      " 27  essay9                39700 non-null  object \n",
      " 28  sign_actual           48890 non-null  object \n",
      " 29  sign_seriousness      48890 non-null  object \n",
      " 30  religion_actual       48890 non-null  object \n",
      " 31  religion_seriousness  48890 non-null  object \n",
      "dtypes: float64(1), int64(1), object(30)\n",
      "memory usage: 12.3+ MB\n"
     ]
    }
   ],
   "source": [
    "df.info()"
   ]
  },
  {
   "cell_type": "code",
   "execution_count": 66,
   "id": "dadcdbea",
   "metadata": {},
   "outputs": [
    {
     "data": {
      "text/plain": [
       "<BarContainer object of 12 artists>"
      ]
     },
     "execution_count": 66,
     "metadata": {},
     "output_type": "execute_result"
    },
    {
     "data": {
      "image/png": "[encoded data removed]",
      "text/plain": [
       "<Figure size 720x360 with 1 Axes>"
      ]
     },
     "metadata": {
      "needs_background": "light"
     },
     "output_type": "display_data"
    }
   ],
   "source": [
    "fig, ax = plt.subplots(figsize=(10,5))\n",
    "ax.barh(df.sign_actual.value_counts().index, df.sign_actual.value_counts().values )"
   ]
  },
  {
   "cell_type": "code",
   "execution_count": null,
   "id": "55b10320",
   "metadata": {},
   "outputs": [],
   "source": []
  }
 ],
 "metadata": {
  "kernelspec": {
   "display_name": "Python 3",
   "language": "python",
   "name": "python3"
  },
  "language_info": {
   "codemirror_mode": {
    "name": "ipython",
    "version": 3
   },
   "file_extension": ".py",
   "mimetype": "text/x-python",
   "name": "python",
   "nbconvert_exporter": "python",
   "pygments_lexer": "ipython3",
   "version": "3.7.7"
  }
 },
 "nbformat": 4,
 "nbformat_minor": 5
}
