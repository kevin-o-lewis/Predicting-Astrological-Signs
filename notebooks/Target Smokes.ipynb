{
 "cells": [
  {
   "cell_type": "code",
   "execution_count": 11,
   "id": "1a4ac6b4",
   "metadata": {},
   "outputs": [],
   "source": [
    "import pandas as pd\n",
    "from sklearn.model_selection import train_test_split, GridSearchCV\n",
    "from sklearn.linear_model import LogisticRegression\n",
    "from matplotlib import pyplot as plt\n",
    "from sklearn.ensemble import RandomForestClassifier, GradientBoostingClassifier\n",
    "import pandas as pd\n",
    "from sklearn.feature_extraction.text import TfidfVectorizer\n",
    "import numpy as np\n",
    "from nltk.stem.snowball import SnowballStemmer\n",
    "import nltk\n",
    "from nltk.stem import WordNetLemmatizer \n",
    "import string\n",
    "from sklearn.model_selection import train_test_split\n",
    "from matplotlib import pyplot as plt\n",
    "from sklearn.ensemble import RandomForestClassifier, GradientBoostingClassifier"
   ]
  },
  {
   "cell_type": "code",
   "execution_count": 32,
   "id": "7eae6df3",
   "metadata": {},
   "outputs": [],
   "source": [
    "df = pd.read_csv('../data/mostly_cleaned.csv')"
   ]
  },
  {
   "cell_type": "code",
   "execution_count": 71,
   "id": "28020235",
   "metadata": {},
   "outputs": [
    {
     "name": "stdout",
     "output_type": "stream",
     "text": [
      "<class 'pandas.core.frame.DataFrame'>\n",
      "RangeIndex: 48890 entries, 0 to 48889\n",
      "Data columns (total 33 columns):\n",
      " #   Column                Non-Null Count  Dtype  \n",
      "---  ------                --------------  -----  \n",
      " 0   Unnamed: 0            48890 non-null  int64  \n",
      " 1   age                   48890 non-null  int64  \n",
      " 2   status                48890 non-null  object \n",
      " 3   sex                   48890 non-null  object \n",
      " 4   orientation           48890 non-null  object \n",
      " 5   body_type             48890 non-null  object \n",
      " 6   diet                  48890 non-null  object \n",
      " 7   drinks                48890 non-null  object \n",
      " 8   drugs                 48890 non-null  object \n",
      " 9   education             48890 non-null  object \n",
      " 10  ethnicity             44945 non-null  object \n",
      " 11  height                48890 non-null  float64\n",
      " 12  job                   48890 non-null  object \n",
      " 13  offspring             48890 non-null  object \n",
      " 14  pets                  48890 non-null  object \n",
      " 15  religion              48890 non-null  object \n",
      " 16  sign                  48890 non-null  object \n",
      " 17  smokes                48890 non-null  object \n",
      " 18  speaks                48860 non-null  object \n",
      " 19  essay0                44796 non-null  object \n",
      " 20  essay1                43464 non-null  object \n",
      " 21  essay2                42041 non-null  object \n",
      " 22  essay3                40828 non-null  object \n",
      " 23  essay4                41301 non-null  object \n",
      " 24  essay5                41292 non-null  object \n",
      " 25  essay6                38968 non-null  object \n",
      " 26  essay7                40068 non-null  object \n",
      " 27  essay8                34618 non-null  object \n",
      " 28  essay9                39700 non-null  object \n",
      " 29  sign_actual           48890 non-null  object \n",
      " 30  sign_seriousness      48890 non-null  object \n",
      " 31  religion_actual       48890 non-null  object \n",
      " 32  religion_seriousness  48890 non-null  object \n",
      "dtypes: float64(1), int64(2), object(30)\n",
      "memory usage: 12.3+ MB\n"
     ]
    }
   ],
   "source": [
    "df.info()"
   ]
  },
  {
   "cell_type": "code",
   "execution_count": 33,
   "id": "a958b2f1",
   "metadata": {},
   "outputs": [],
   "source": [
    "essays = df.iloc[:, 19:29]\n",
    "essays.fillna(\".\", inplace=True)\n",
    "essays['essays_combined'] = essays['essay0']\n",
    "for col in essays.columns[1:]:\n",
    "    essays['essays_combined'] += essays[col]"
   ]
  },
  {
   "cell_type": "code",
   "execution_count": 34,
   "id": "e33a70db",
   "metadata": {},
   "outputs": [],
   "source": [
    "trimmed_df = df.drop(columns={'Unnamed: 0', \n",
    "                 'sign', \n",
    "                 'religion', \n",
    "                 'essay0', \n",
    "                 'essay1', \n",
    "                 'essay2', \n",
    "                 'essay3', \n",
    "                 'essay4', \n",
    "                 'essay5', \n",
    "                 'essay6', \n",
    "                 'essay7', \n",
    "                 'essay8', \n",
    "                 'essay9',\n",
    "                 'smokes'})"
   ]
  },
  {
   "cell_type": "code",
   "execution_count": 35,
   "id": "6eab0058",
   "metadata": {},
   "outputs": [],
   "source": [
    "dummy_df = pd.get_dummies(trimmed_df)\n"
   ]
  },
  {
   "cell_type": "code",
   "execution_count": null,
   "id": "9dbdcd64",
   "metadata": {},
   "outputs": [],
   "source": [
    "dummy_df."
   ]
  },
  {
   "cell_type": "code",
   "execution_count": 118,
   "id": "2763155f",
   "metadata": {},
   "outputs": [
    {
     "name": "stdout",
     "output_type": "stream",
     "text": [
      "age int64\n",
      "height float64\n",
      "essay_vector object\n"
     ]
    }
   ],
   "source": [
    "for col in list(dummy_df.columns):\n",
    "    if dummy_df[col].dtype != 'uint8':\n",
    "        print(col, dummy_df[col].dtype)"
   ]
  },
  {
   "cell_type": "code",
   "execution_count": 36,
   "id": "760660f3",
   "metadata": {},
   "outputs": [],
   "source": [
    "tfidf = TfidfVectorizer(max_features=1000, \n",
    "                        stop_words='english', \n",
    "                        strip_accents='unicode', \n",
    "                        analyzer='word')\n",
    "Z = tfidf.fit_transform(essays.essays_combined)"
   ]
  },
  {
   "cell_type": "code",
   "execution_count": 52,
   "id": "56d7d302",
   "metadata": {},
   "outputs": [],
   "source": [
    "vector_df = pd.DataFrame(Z.toarray())"
   ]
  },
  {
   "cell_type": "code",
   "execution_count": 113,
   "id": "104fba3e",
   "metadata": {},
   "outputs": [
    {
     "name": "stdout",
     "output_type": "stream",
     "text": [
      "<class 'pandas.core.frame.DataFrame'>\n",
      "RangeIndex: 10 entries, 0 to 9\n",
      "Columns: 1000 entries, 0 to 999\n",
      "dtypes: float64(1000)\n",
      "memory usage: 78.2 KB\n"
     ]
    }
   ],
   "source": [
    "vector_df.iloc[0:10,0:1000].info()"
   ]
  },
  {
   "cell_type": "code",
   "execution_count": 66,
   "id": "9412f9fa",
   "metadata": {},
   "outputs": [
    {
     "data": {
      "text/html": [
       "<div>\n",
       "<style scoped>\n",
       "    .dataframe tbody tr th:only-of-type {\n",
       "        vertical-align: middle;\n",
       "    }\n",
       "\n",
       "    .dataframe tbody tr th {\n",
       "        vertical-align: top;\n",
       "    }\n",
       "\n",
       "    .dataframe thead th {\n",
       "        text-align: right;\n",
       "    }\n",
       "</style>\n",
       "<table border=\"1\" class=\"dataframe\">\n",
       "  <thead>\n",
       "    <tr style=\"text-align: right;\">\n",
       "      <th></th>\n",
       "      <th>0</th>\n",
       "      <th>1</th>\n",
       "      <th>2</th>\n",
       "      <th>3</th>\n",
       "      <th>4</th>\n",
       "      <th>5</th>\n",
       "      <th>6</th>\n",
       "      <th>7</th>\n",
       "      <th>8</th>\n",
       "      <th>9</th>\n",
       "      <th>...</th>\n",
       "      <th>990</th>\n",
       "      <th>991</th>\n",
       "      <th>992</th>\n",
       "      <th>993</th>\n",
       "      <th>994</th>\n",
       "      <th>995</th>\n",
       "      <th>996</th>\n",
       "      <th>997</th>\n",
       "      <th>998</th>\n",
       "      <th>999</th>\n",
       "    </tr>\n",
       "  </thead>\n",
       "  <tbody>\n",
       "    <tr>\n",
       "      <th>0</th>\n",
       "      <td>0.0</td>\n",
       "      <td>0.0</td>\n",
       "      <td>0.0</td>\n",
       "      <td>0.0</td>\n",
       "      <td>0.0</td>\n",
       "      <td>0.0</td>\n",
       "      <td>0.0</td>\n",
       "      <td>0.173365</td>\n",
       "      <td>0.0</td>\n",
       "      <td>0.0</td>\n",
       "      <td>...</td>\n",
       "      <td>0.0</td>\n",
       "      <td>0.0</td>\n",
       "      <td>0.0</td>\n",
       "      <td>0.064153</td>\n",
       "      <td>0.0</td>\n",
       "      <td>0.0</td>\n",
       "      <td>0.0</td>\n",
       "      <td>0.0</td>\n",
       "      <td>0.0</td>\n",
       "      <td>0.0</td>\n",
       "    </tr>\n",
       "  </tbody>\n",
       "</table>\n",
       "<p>1 rows × 1000 columns</p>\n",
       "</div>"
      ],
      "text/plain": [
       "   0    1    2    3    4    5    6         7    8    9    ...  990  991  992  \\\n",
       "0  0.0  0.0  0.0  0.0  0.0  0.0  0.0  0.173365  0.0  0.0  ...  0.0  0.0  0.0   \n",
       "\n",
       "        993  994  995  996  997  998  999  \n",
       "0  0.064153  0.0  0.0  0.0  0.0  0.0  0.0  \n",
       "\n",
       "[1 rows x 1000 columns]"
      ]
     },
     "execution_count": 66,
     "metadata": {},
     "output_type": "execute_result"
    }
   ],
   "source": [
    "vector_df[0:1]"
   ]
  },
  {
   "cell_type": "code",
   "execution_count": 119,
   "id": "3511b133",
   "metadata": {},
   "outputs": [],
   "source": [
    "combined_df = dummy_df.drop(columns='essay_vector').join(vector_df)"
   ]
  },
  {
   "cell_type": "code",
   "execution_count": 120,
   "id": "f7c5c7e5",
   "metadata": {},
   "outputs": [
    {
     "name": "stdout",
     "output_type": "stream",
     "text": [
      "<class 'pandas.core.frame.DataFrame'>\n",
      "RangeIndex: 48890 entries, 0 to 48889\n",
      "Columns: 8065 entries, age to 999\n",
      "dtypes: float64(1001), int64(1), uint8(7063)\n",
      "memory usage: 703.1 MB\n"
     ]
    }
   ],
   "source": [
    "combined_df.info()"
   ]
  },
  {
   "cell_type": "code",
   "execution_count": 121,
   "id": "ec9fcf59",
   "metadata": {},
   "outputs": [],
   "source": [
    "y=df['smokes']\n",
    "X=combined_df"
   ]
  },
  {
   "cell_type": "code",
   "execution_count": 122,
   "id": "48296b78",
   "metadata": {},
   "outputs": [
    {
     "data": {
      "text/plain": [
       "((36667, 8065), (12223, 8065), (36667,), (12223,))"
      ]
     },
     "execution_count": 122,
     "metadata": {},
     "output_type": "execute_result"
    }
   ],
   "source": [
    "X_train, X_test, y_train, y_test = train_test_split(X, y)\n",
    "X_train.shape, X_test.shape, y_train.shape, y_test.shape"
   ]
  },
  {
   "cell_type": "code",
   "execution_count": 123,
   "id": "bdb8a7cc",
   "metadata": {},
   "outputs": [
    {
     "data": {
      "text/plain": [
       "0.7422891270555511"
      ]
     },
     "execution_count": 123,
     "metadata": {},
     "output_type": "execute_result"
    }
   ],
   "source": [
    "GB = GradientBoostingClassifier()\n",
    "GB.fit(X_train, y_train)\n",
    "GB_pred = GB.predict(X_test)\n",
    "\n",
    "GB.score(X_test, y_test)"
   ]
  },
  {
   "cell_type": "code",
   "execution_count": 124,
   "id": "c5e80811",
   "metadata": {},
   "outputs": [
    {
     "data": {
      "text/plain": [
       "0.7336987646240694"
      ]
     },
     "execution_count": 124,
     "metadata": {},
     "output_type": "execute_result"
    }
   ],
   "source": [
    "RF = RandomForestClassifier()\n",
    "RF.fit(X_train, y_train)\n",
    "RF_pred = RF.predict(X_test)\n",
    "\n",
    "RF.score(X_test, y_test)"
   ]
  },
  {
   "cell_type": "code",
   "execution_count": null,
   "id": "d0418a63",
   "metadata": {},
   "outputs": [],
   "source": [
    "gb_gridsearch = GridSearchCV(estimator=GradientBoostingClassifier(),\n",
    "                                param_grid = {'max_depth': [2, 4, 8],\n",
    "                                             'min_samples_split': [2, 4, 8],\n",
    "                                             'subsample': [1, 0.5, 0.25, 0.1]},\n",
    "                                cv=5, verbose=0, return_train_score=True)\n",
    "gb_gridsearch.fit(X_train, y_train)\n",
    "df_gridsearch = pd.DataFrame(gb_gridsearch.cv_results_)"
   ]
  },
  {
   "cell_type": "code",
   "execution_count": null,
   "id": "abefa081",
   "metadata": {},
   "outputs": [],
   "source": []
  }
 ],
 "metadata": {
  "kernelspec": {
   "display_name": "Python 3",
   "language": "python",
   "name": "python3"
  },
  "language_info": {
   "codemirror_mode": {
    "name": "ipython",
    "version": 3
   },
   "file_extension": ".py",
   "mimetype": "text/x-python",
   "name": "python",
   "nbconvert_exporter": "python",
   "pygments_lexer": "ipython3",
   "version": "3.7.7"
  }
 },
 "nbformat": 4,
 "nbformat_minor": 5
}
